{
 "cells": [
  {
   "cell_type": "markdown",
   "metadata": {},
   "source": [
    "## Support Vector Machine"
   ]
  },
  {
   "cell_type": "markdown",
   "metadata": {
    "slideshow": {
     "slide_type": "notes"
    }
   },
   "source": [
    "Öncelikle kullanılacak olan ilgili kütüphaneler import edilir."
   ]
  },
  {
   "cell_type": "code",
   "execution_count": 1,
   "metadata": {},
   "outputs": [],
   "source": [
    "import sys\n",
    "import csv\n",
    "import datetime\n",
    "import numpy as np\n",
    "import pandas as pd\n",
    "import matplotlib.pyplot as plt\n",
    "from datetime import datetime\n",
    "from sklearn.impute import SimpleImputer\n",
    "from sklearn.model_selection import cross_validate\n",
    "import sexmachine.detector as gender\n",
    "from sklearn import metrics\n",
    "from sklearn import preprocessing\n",
    "from sklearn.svm import SVC\n",
    "from sklearn.metrics import roc_curve, auc\n",
    "from sklearn.model_selection import StratifiedKFold, train_test_split\n",
    "from sklearn.model_selection import GridSearchCV\n",
    "from sklearn.metrics import accuracy_score\n",
    "from sklearn.model_selection import learning_curve\n",
    "from sklearn.metrics import classification_report\n",
    "from sklearn.metrics import confusion_matrix\n",
    "%matplotlib inline "
   ]
  },
  {
   "cell_type": "markdown",
   "metadata": {},
   "source": [
    "Kişinin adını kullanarak cinsiyeti tahmin etme işlevi"
   ]
  },
  {
   "cell_type": "code",
   "execution_count": 2,
   "metadata": {},
   "outputs": [],
   "source": [
    "def predict_sex(name):\n",
    "    sex_predictor = gender.Detector(unknown_value=u\"unknown\",case_sensitive=False)\n",
    "    first_name= name.str.split(' ').str.get(0)\n",
    "    sex= first_name.apply(sex_predictor.get_gender)\n",
    "    sex_dict={'female': -2, 'mostly_female': -1,'unknown':0,'mostly_male':1, 'male': 2}\n",
    "    sex_code = sex.map(sex_dict).astype(int)\n",
    "    return sex_code"
   ]
  },
  {
   "cell_type": "markdown",
   "metadata": {},
   "source": [
    "Öğrenme Eğrisi için Fonksiyon"
   ]
  },
  {
   "cell_type": "code",
   "execution_count": 3,
   "metadata": {},
   "outputs": [],
   "source": [
    "def plot_learning_curve(estimator, title, X, y, ylim=None, cv=None,\n",
    "                        n_jobs=1, train_sizes=np.linspace(.1, 1.0, 5)):\n",
    "    plt.figure()\n",
    "    plt.title(title)\n",
    "    if ylim is not None:\n",
    "        plt.ylim(*ylim)\n",
    "    plt.xlabel(\"Training örnekleri\")\n",
    "    plt.ylabel(\"Score\")\n",
    "    train_sizes, train_scores, test_scores = learning_curve(\n",
    "        estimator, X, y, cv=cv, n_jobs=n_jobs, train_sizes=train_sizes)\n",
    "    train_scores_mean = np.mean(train_scores, axis=1)\n",
    "    train_scores_std = np.std(train_scores, axis=1)\n",
    "    test_scores_mean = np.mean(test_scores, axis=1)\n",
    "    test_scores_std = np.std(test_scores, axis=1)\n",
    "    plt.grid()\n",
    "\n",
    "    plt.fill_between(train_sizes, train_scores_mean - train_scores_std,\n",
    "                     train_scores_mean + train_scores_std, alpha=0.1,\n",
    "                     color=\"r\")\n",
    "    plt.fill_between(train_sizes, test_scores_mean - test_scores_std,\n",
    "                     test_scores_mean + test_scores_std, alpha=0.1, color=\"g\")\n",
    "    plt.plot(train_sizes, train_scores_mean, 'o-', color=\"r\",\n",
    "             label=\"Training score\")\n",
    "    plt.plot(train_sizes, test_scores_mean, 'o-', color=\"g\",\n",
    "             label=\"Cross-validation score\")\n",
    "\n",
    "    plt.legend(loc=\"best\")\n",
    "    return plt"
   ]
  },
  {
   "cell_type": "markdown",
   "metadata": {},
   "source": [
    "Confusion matrix çizmek için "
   ]
  },
  {
   "cell_type": "code",
   "execution_count": 4,
   "metadata": {},
   "outputs": [],
   "source": [
    "def plot_confusion_matrix(cm, title='Confusion matrix', cmap=plt.cm.Blues):\n",
    "    target_names=['Fake','Genuine']\n",
    "    plt.imshow(cm, interpolation='nearest', cmap=cmap)\n",
    "    plt.title(title)\n",
    "    plt.colorbar()\n",
    "    tick_marks = np.arange(len(target_names))\n",
    "    plt.xticks(tick_marks, target_names, rotation=45)\n",
    "    plt.yticks(tick_marks, target_names)\n",
    "    plt.tight_layout()\n",
    "    plt.ylabel('True label')\n",
    "    plt.xlabel('Predicted label')"
   ]
  },
  {
   "cell_type": "markdown",
   "metadata": {},
   "source": [
    "ROC eğrisini çizmek için fonksiyon"
   ]
  },
  {
   "cell_type": "code",
   "execution_count": 5,
   "metadata": {},
   "outputs": [],
   "source": [
    "def plot_roc_curve(y_test, y_pred):\n",
    "    false_positive_rate, true_positive_rate, thresholds = roc_curve(y_test, y_pred)\n",
    "    print (\"False Positive rate: \",false_positive_rate)\n",
    "    print (\"True Positive rate: \",true_positive_rate)\n",
    "    \n",
    "    roc_auc = auc(false_positive_rate, true_positive_rate)\n",
    "\n",
    "    plt.title('Receiver Operating Characteristic')\n",
    "    plt.plot(false_positive_rate, true_positive_rate, 'b',\n",
    "    label='AUC = %0.2f'% roc_auc)\n",
    "    plt.legend(loc='lower right')\n",
    "    plt.plot([0,1],[0,1],'r--')\n",
    "    plt.xlim([-0.1,1.2])\n",
    "    plt.ylim([-0.1,1.2])\n",
    "    plt.ylabel('True Positive Rate')\n",
    "    plt.xlabel('False Positive Rate')\n",
    "    plt.show()"
   ]
  },
  {
   "cell_type": "code",
   "execution_count": 6,
   "metadata": {},
   "outputs": [
    {
     "name": "stdout",
     "output_type": "stream",
     "text": [
      "Veri Seti Okunuyor.....\n",
      "\n",
      "Gerçek Kullanıcı sütunları\n",
      "Index([u'id', u'name', u'screen_name', u'statuses_count', u'followers_count',\n",
      "       u'friends_count', u'favourites_count', u'listed_count', u'created_at',\n",
      "       u'url', u'lang', u'time_zone', u'location', u'default_profile',\n",
      "       u'default_profile_image', u'geo_enabled', u'profile_image_url',\n",
      "       u'profile_banner_url', u'profile_use_background_image',\n",
      "       u'profile_background_image_url_https', u'profile_text_color',\n",
      "       u'profile_image_url_https', u'profile_sidebar_border_color',\n",
      "       u'profile_background_tile', u'profile_sidebar_fill_color',\n",
      "       u'profile_background_image_url', u'profile_background_color',\n",
      "       u'profile_link_color', u'utc_offset', u'protected', u'verified',\n",
      "       u'description', u'updated', u'dataset'],\n",
      "      dtype='object')\n",
      "Gerçek Kullanıcı\n",
      "                 id  statuses_count  followers_count  friends_count  \\\n",
      "count  1.481000e+03     1481.000000      1481.000000    1481.000000   \n",
      "mean   4.000432e+08     3140.782579       690.922350     403.128292   \n",
      "std    2.961304e+08     6391.957957     11058.508986     610.572368   \n",
      "min    3.610511e+06        3.000000         0.000000       0.000000   \n",
      "25%    1.572905e+08      315.000000        45.000000     115.000000   \n",
      "50%    3.822478e+08      992.000000       102.000000     226.000000   \n",
      "75%    5.229255e+08     3029.000000       259.000000     437.000000   \n",
      "max    1.219743e+09    79876.000000    408372.000000   12773.000000   \n",
      "\n",
      "       favourites_count  listed_count  default_profile  default_profile_image  \\\n",
      "count       1481.000000   1481.000000            397.0                    4.0   \n",
      "mean         439.611749      5.360567              1.0                    1.0   \n",
      "std         1970.556008     32.183232              0.0                    0.0   \n",
      "min            0.000000      0.000000              1.0                    1.0   \n",
      "25%            4.000000      0.000000              1.0                    1.0   \n",
      "50%           29.000000      1.000000              1.0                    1.0   \n",
      "75%          176.000000      2.000000              1.0                    1.0   \n",
      "max        44349.000000    744.000000              1.0                    1.0   \n",
      "\n",
      "       geo_enabled  profile_use_background_image  profile_background_tile  \\\n",
      "count        719.0                        1423.0                    486.0   \n",
      "mean           1.0                           1.0                      1.0   \n",
      "std            0.0                           0.0                      0.0   \n",
      "min            1.0                           1.0                      1.0   \n",
      "25%            1.0                           1.0                      1.0   \n",
      "50%            1.0                           1.0                      1.0   \n",
      "75%            1.0                           1.0                      1.0   \n",
      "max            1.0                           1.0                      1.0   \n",
      "\n",
      "         utc_offset  protected  verified  \n",
      "count   1063.000000        0.0       0.0  \n",
      "mean    1535.841957        NaN       NaN  \n",
      "std     7805.690161        NaN       NaN  \n",
      "min   -39600.000000        NaN       NaN  \n",
      "25%     3600.000000        NaN       NaN  \n",
      "50%     3600.000000        NaN       NaN  \n",
      "75%     3600.000000        NaN       NaN  \n",
      "max    36000.000000        NaN       NaN  \n",
      "Sahte Kullanıcı\n",
      "                 id  statuses_count  followers_count  friends_count  \\\n",
      "count  1.337000e+03     1337.000000      1337.000000    1337.000000   \n",
      "mean   6.897381e+08       45.442034        16.842184     386.761406   \n",
      "std    2.135086e+08       97.765536         8.011299     210.139672   \n",
      "min    3.738459e+07        0.000000         0.000000       0.000000   \n",
      "25%    6.163001e+08       26.000000        13.000000     278.000000   \n",
      "50%    6.170879e+08       36.000000        18.000000     344.000000   \n",
      "75%    6.192317e+08       53.000000        22.000000     538.000000   \n",
      "max    1.391998e+09     1576.000000        73.000000    1998.000000   \n",
      "\n",
      "       favourites_count  listed_count  url  default_profile  \\\n",
      "count       1337.000000   1337.000000  0.0           1331.0   \n",
      "mean           7.383695      0.002992  NaN              1.0   \n",
      "std           89.155940      0.054636  NaN              0.0   \n",
      "min            0.000000      0.000000  NaN              1.0   \n",
      "25%            0.000000      0.000000  NaN              1.0   \n",
      "50%            0.000000      0.000000  NaN              1.0   \n",
      "75%            0.000000      0.000000  NaN              1.0   \n",
      "max         1402.000000      1.000000  NaN              1.0   \n",
      "\n",
      "       default_profile_image  geo_enabled  profile_use_background_image  \\\n",
      "count                    4.0          2.0                        1337.0   \n",
      "mean                     1.0          1.0                           1.0   \n",
      "std                      0.0          0.0                           0.0   \n",
      "min                      1.0          1.0                           1.0   \n",
      "25%                      1.0          1.0                           1.0   \n",
      "50%                      1.0          1.0                           1.0   \n",
      "75%                      1.0          1.0                           1.0   \n",
      "max                      1.0          1.0                           1.0   \n",
      "\n",
      "       profile_background_tile    utc_offset  protected  verified  \n",
      "count                      3.0      6.000000        0.0       0.0  \n",
      "mean                       1.0  -8700.000000        NaN       NaN  \n",
      "std                        0.0  31247.847926        NaN       NaN  \n",
      "min                        1.0 -39600.000000        NaN       NaN  \n",
      "25%                        1.0 -36000.000000        NaN       NaN  \n",
      "50%                        1.0  -8100.000000        NaN       NaN  \n",
      "75%                        1.0  19800.000000        NaN       NaN  \n",
      "max                        1.0  19800.000000        NaN       NaN  \n"
     ]
    }
   ],
   "source": [
    "print(\"Veri Seti Okunuyor.....\\n\")\n",
    "genuine_users = pd.read_csv(r\"C:\\Users\\Asus\\Desktop\\users.csv\")\n",
    "fake_users = pd.read_csv(r\"C:\\Users\\Asus\\Desktop\\fusers.csv\")\n",
    "print(\"Gerçek Kullanıcı sütunları\")\n",
    "print(genuine_users.columns)\n",
    "print(\"Gerçek Kullanıcı\")\n",
    "print(genuine_users.describe())\n",
    "print(\"Sahte Kullanıcı\")\n",
    "print(fake_users.describe())\n",
    "x=pd.concat([genuine_users,fake_users])   \n",
    "y=len(fake_users)*[0] + len(genuine_users)*[1]"
   ]
  },
  {
   "cell_type": "code",
   "execution_count": 7,
   "metadata": {},
   "outputs": [
    {
     "name": "stdout",
     "output_type": "stream",
     "text": [
      "Öznitelik Çıkarımı.....\n",
      "\n",
      "Index([u'statuses_count', u'followers_count', u'friends_count',\n",
      "       u'favourites_count', u'listed_count', u'sex_code', u'lang_code'],\n",
      "      dtype='object')\n",
      "       statuses_count  followers_count  friends_count  favourites_count  \\\n",
      "count     2818.000000      2818.000000    2818.000000       2818.000000   \n",
      "mean      1672.198368       371.105039     395.363023        234.541164   \n",
      "std       4884.669157      8022.631339     465.694322       1445.847248   \n",
      "min          0.000000         0.000000       0.000000          0.000000   \n",
      "25%         35.000000        17.000000     168.000000          0.000000   \n",
      "50%         77.000000        26.000000     306.000000          0.000000   \n",
      "75%       1087.750000       111.000000     519.000000         37.000000   \n",
      "max      79876.000000    408372.000000   12773.000000      44349.000000   \n",
      "\n",
      "       listed_count     sex_code    lang_code  \n",
      "count   2818.000000  2818.000000  2818.000000  \n",
      "mean       2.818666    -0.180270     2.851313  \n",
      "std       23.480430     1.679125     1.992950  \n",
      "min        0.000000    -2.000000     0.000000  \n",
      "25%        0.000000    -2.000000     1.000000  \n",
      "50%        0.000000     0.000000     1.000000  \n",
      "75%        1.000000     2.000000     5.000000  \n",
      "max      744.000000     2.000000     7.000000  \n"
     ]
    }
   ],
   "source": [
    "print(\"Öznitelik Çıkarımı.....\\n\")\n",
    "lang_list = list(enumerate(np.unique(x['lang'])))   \n",
    "lang_dict = { name : i for i, name in lang_list }             \n",
    "x.loc[:,'lang_code'] = x['lang'].map( lambda x: lang_dict[x]).astype(int)    \n",
    "x.loc[:,'sex_code']=predict_sex(x['name'])\n",
    "feature_columns_to_use = ['statuses_count','followers_count','friends_count','favourites_count','listed_count','sex_code','lang_code']\n",
    "x=x.loc[:,feature_columns_to_use]\n",
    "print(x.columns)\n",
    "print(x.describe())"
   ]
  },
  {
   "cell_type": "code",
   "execution_count": 8,
   "metadata": {},
   "outputs": [
    {
     "name": "stdout",
     "output_type": "stream",
     "text": [
      "Veriseti train ve test verisi olarak ayrılıyor...\n",
      "\n"
     ]
    }
   ],
   "source": [
    "print(\"Veriseti train ve test verisi olarak ayrılıyor...\\n\")\n",
    "X_train,X_test,y_train,y_test = train_test_split(x, y, test_size=0.20, random_state=44)"
   ]
  },
  {
   "cell_type": "code",
   "execution_count": 9,
   "metadata": {},
   "outputs": [
    {
     "name": "stdout",
     "output_type": "stream",
     "text": [
      "Veri Seti Eğitiliyor.......\n",
      "\n"
     ]
    }
   ],
   "source": [
    "print(\"Veri Seti Eğitiliyor.......\\n\")\n",
    "svclassifier = SVC(kernel='linear')\n",
    "svclassifier.fit(X_train, y_train)\n",
    "\n",
    "y_pred =svclassifier.predict(X_test)"
   ]
  },
  {
   "cell_type": "code",
   "execution_count": 10,
   "metadata": {},
   "outputs": [
    {
     "name": "stdout",
     "output_type": "stream",
     "text": [
      "[[259   9]\n",
      " [ 29 267]]\n"
     ]
    }
   ],
   "source": [
    "print(confusion_matrix(y_test,y_pred))"
   ]
  },
  {
   "cell_type": "code",
   "execution_count": 11,
   "metadata": {},
   "outputs": [
    {
     "name": "stdout",
     "output_type": "stream",
     "text": [
      "Test Veriseti Accuracy:  0.9326241134751773\n"
     ]
    }
   ],
   "source": [
    "print(\"Test Veriseti Accuracy: \") ,accuracy_score(y_test, y_pred)"
   ]
  },
  {
   "cell_type": "code",
   "execution_count": 12,
   "metadata": {},
   "outputs": [
    {
     "name": "stdout",
     "output_type": "stream",
     "text": [
      "Confusion matrix->Normalizasyon Olmadan\n",
      "[[259   9]\n",
      " [ 29 267]]\n"
     ]
    },
    {
     "data": {
      "image/png": "[encoded data removed]",
      "text/plain": [
       "<Figure size 432x288 with 2 Axes>"
      ]
     },
     "metadata": {
      "needs_background": "light"
     },
     "output_type": "display_data"
    }
   ],
   "source": [
    "cm=confusion_matrix(y_test, y_pred)\n",
    "print(\"Confusion matrix->Normalizasyon Olmadan\")\n",
    "print(cm)\n",
    "plot_confusion_matrix(cm)"
   ]
  },
  {
   "cell_type": "code",
   "execution_count": 13,
   "metadata": {},
   "outputs": [
    {
     "name": "stdout",
     "output_type": "stream",
     "text": [
      "Normalize edilince -> confusion matrix\n",
      "[[0.96641791 0.03358209]\n",
      " [0.09797297 0.90202703]]\n"
     ]
    },
    {
     "data": {
      "image/png": "[encoded data removed]",
      "text/plain": [
       "<Figure size 432x288 with 2 Axes>"
      ]
     },
     "metadata": {
      "needs_background": "light"
     },
     "output_type": "display_data"
    }
   ],
   "source": [
    "cm_normalized = cm.astype('float') / cm.sum(axis=1)[:, np.newaxis]\n",
    "print(\"Normalize edilince -> confusion matrix\")\n",
    "print(cm_normalized)\n",
    "plot_confusion_matrix(cm_normalized, title='Normalized confusion matrix')"
   ]
  },
  {
   "cell_type": "code",
   "execution_count": 14,
   "metadata": {},
   "outputs": [
    {
     "name": "stdout",
     "output_type": "stream",
     "text": [
      "              precision    recall  f1-score   support\n",
      "\n",
      "        Fake       0.90      0.97      0.93       268\n",
      "     Genuine       0.97      0.90      0.93       296\n",
      "\n",
      "   micro avg       0.93      0.93      0.93       564\n",
      "   macro avg       0.93      0.93      0.93       564\n",
      "weighted avg       0.94      0.93      0.93       564\n",
      "\n"
     ]
    }
   ],
   "source": [
    "print(classification_report(y_test, y_pred, target_names=['Fake','Genuine']))"
   ]
  },
  {
   "cell_type": "code",
   "execution_count": 15,
   "metadata": {},
   "outputs": [
    {
     "name": "stdout",
     "output_type": "stream",
     "text": [
      "('False Positive rate: ', array([0.        , 0.03358209, 1.        ]))\n",
      "('True Positive rate: ', array([0.        , 0.90202703, 1.        ]))\n"
     ]
    },
    {
     "data": {
      "image/png": "[encoded data removed]",
      "text/plain": [
       "<Figure size 432x288 with 1 Axes>"
      ]
     },
     "metadata": {
      "needs_background": "light"
     },
     "output_type": "display_data"
    }
   ],
   "source": [
    "plot_roc_curve(y_test, y_pred)"
   ]
  }
 ],
 "metadata": {
  "kernelspec": {
   "display_name": "Python 2",
   "language": "python",
   "name": "python2"
  },
  "language_info": {
   "codemirror_mode": {
    "name": "ipython",
    "version": 2
   },
   "file_extension": ".py",
   "mimetype": "text/x-python",
   "name": "python",
   "nbconvert_exporter": "python",
   "pygments_lexer": "ipython2",
   "version": "2.7.16"
  }
 },
 "nbformat": 4,
 "nbformat_minor": 1
}
